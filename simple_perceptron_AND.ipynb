{
  "cells": [
    {
      "cell_type": "markdown",
      "metadata": {
        "id": "view-in-github",
        "colab_type": "text"
      },
      "source": [
        "<a href=\"https://colab.research.google.com/github/hdyoon/AI_lecture/blob/master/simple_perceptron_AND.ipynb\" target=\"_parent\"><img src=\"https://colab.research.google.com/assets/colab-badge.svg\" alt=\"Open In Colab\"/></a>"
      ]
    },
    {
      "cell_type": "markdown",
      "metadata": {
        "id": "QAjDVVM3yJnF"
      },
      "source": [
        "simple perceptron 구현\n",
        "=================\n"
      ]
    },
    {
      "cell_type": "markdown",
      "metadata": {
        "id": "7DFIeSozyJnH"
      },
      "source": [
        "본 장에서는 단층 퍼셉트론을 파이썬으로 구현하여 보도록 하겠습니다. 먼저 우리가 구현할 AND 논리 연산은 다음과 같습니다.\n",
        "\n",
        "| $x_1$ \t| $x_2$ \t| $x_1 \\cap x_2$ \t| $x_1 \\cup x_2$ \t| $x_1 \\oplus x_2$ \t|\n",
        "|:-----:\t|:-----:\t|:--------------:\t|:--------------:\t|:----------------:\t|\n",
        "|     0 \t|     0 \t|              -1 \t|             -1 \t|               -1 \t|\n",
        "|     0 \t|     1 \t|              -1 \t|              1 \t|                1 \t|\n",
        "|     1 \t|     0 \t|              -1\t|              1 \t|                1 \t|\n",
        "|     1 \t|     1 \t|               1\t|              1 \t|               -1 \t|\n",
        "\n",
        "activation function으로 sign function을 사용하게 됨으로 False일 경우 -1 True일 경우 1을 반환하고 있습니다.\n",
        "\n",
        "![Activation Functions](https://4.bp.blogspot.com/-e96MNS1bxts/WCsKyopRHkI/AAAAAAAACMU/9CJNMzXpIXUBVV9tD5A2nWaEQZf8nA-LwCLcB/s320/Activation%2BFunction.PNG \"Activation Functions\")\n",
        "\n",
        "\n",
        "퍼셉트론 훈련 절차\n",
        "-----------------\n",
        "\n",
        "1. $w_0 ~ w_n$의 값을 0.0, 임계값(threshold) 0.0, 에타값은 0.1로 세팅한다.\n",
        "2. 훈련 데이터의 특성값들에 대한 예측값의 활성 함수 리턴값을 계산한다.\n",
        "3. 2에서 계산된 값이 이 실제 결과값의 활성 함수 리턴값과 같으면 가중치 업데이트 없이 다음 트레이닝 데이터에 대해 2번 과정으로 넘어간다.\n",
        "4. 예측값의 활성 함수 리턴값이 실제 결과값의 활성 함수 리턴값과 다르면 델타규칙에 의해 $w_0 ~ w_n$의 가중치를 업데이트 한다.\n",
        "5. 더 이상 업데이트가 일어나질 않을때까지 2~4를 반복한다.\n",
        "\n",
        "각 노드 사이의 가중치는 delta rule에 의해서 업데이트 됩니다. \n",
        "\n",
        "<center>$\\Delta w_j = \\eta (y - \\hat{y})x_j$</center>"
      ]
    },
    {
      "cell_type": "markdown",
      "metadata": {
        "id": "e7XHJGsHyJnI"
      },
      "source": [
        "### 클래스 생성 및 변수 초기화\n",
        "* eta : 학습 속도\n",
        "* n_iter : 최대 반복 횟수 설정\n",
        "* threshold : 활성 함수의 임계 기준"
      ]
    },
    {
      "cell_type": "markdown",
      "metadata": {
        "id": "EJQYXIgHyJnI"
      },
      "source": [
        "~~~python\n",
        "def __init__(self, eta=0.01, threshold=0.0, n_iter=10):\n",
        "    self.eta = eta\n",
        "    self.threshold = threshold\n",
        "    self.n_iter = n_iter\n",
        "~~~"
      ]
    },
    {
      "cell_type": "markdown",
      "metadata": {
        "id": "grWDXtd-yJnJ"
      },
      "source": [
        "### 퍼셉트론 학습\n",
        "퍼셉트론의 학습을 진행하는 fit함수를 정의해보도록 합시다. 각 노드 사이의 가중치 값은 w 배열에 담기게 됩니다. 코드에서는 w배열크기를 입력값 배열크기에 +1을 하는데, 그 이유는 bias를 위한 공간을 마련하기 위해서입니다. 지금처럼 x값으로 들어오는 입력값이 2개인 경우 [w0, w1, w2] 모양의 배열이 생성되며, 0번째 인덱스의 방이 바로 b값을 위한 공간으로 세팅 됩니다. \n",
        "errors 배열은 train 과정을 저장하게 됩니다. 퍼셉트론은 모든 가중치가 더이상 업데이트가 안 일어날때 학습이 끝났다고 볼 수 있습니다. 즉, 더 이상 예측값과 실제값이 차이가 발생하지 않을 때 모델이 완성됩니다.\n",
        "~~~python\n",
        "update = self.eta * (target - self.predict(xi))\n",
        "~~~\n",
        "부분에서 delta rule을 구현하고 있습니다. 가중치는 실제값과 예측값의 차이에 따라 업데이트 됩니다."
      ]
    },
    {
      "cell_type": "markdown",
      "metadata": {
        "id": "YCfB7kmhyJnJ"
      },
      "source": [
        "~~~python\n",
        "def fit(self, X, y):\n",
        "    self.w_ = np.zeros(1 + X.shape[1])\n",
        "    self.errors_ = []\n",
        "    for _ in range(self.n_iter):\n",
        "        errors = 0\n",
        "        for xi, target in zip(X, y):\n",
        "            update = self.eta * (target - self.predict(xi))\n",
        "            self.w_[1:] += update * xi\n",
        "            self.w_[0] += update\n",
        "            errors += int(update != 0.0)\n",
        "        self.errors_.append(errors)\n",
        "    return self\n",
        "~~~"
      ]
    },
    {
      "cell_type": "markdown",
      "metadata": {
        "id": "eXPzpKZqyJnK"
      },
      "source": [
        "### 예측값 계산\n",
        "\n",
        "numpy의 matmul함수는 두 행렬의 곱을 반환합니다. 즉, 각 입력값에 대한 가중치의 곱을 모두 더한 값을 계산하게 됩니다.\n",
        "\n",
        "$\\begin{Bmatrix} x_1 & x_2 \\end{Bmatrix} \\times \\begin{Bmatrix} w_1 \\\\ w_2 \\end{Bmatrix} = \\begin{Bmatrix} x_1 \\times w_1 + x_2 \\times w_2 \\end{Bmatrix} = \\sum_{i=1}^2{x_iw_i}$\n",
        "\n",
        "predict는 그 해당 값이 임계값을 넘으면 1 아니면 -1을 반환하는 activation function 역할을 합니다.\n",
        "여기까지하면 Perceptron 클래스의 작성이 완료되었습니다."
      ]
    },
    {
      "cell_type": "markdown",
      "metadata": {
        "id": "KhJGs9GMyJnL"
      },
      "source": [
        "~~~python\n",
        "def net_input(self, X):\n",
        "    return np.matmul(X, self.w_[1:]) + self.w_[0]\n",
        "    \n",
        "def predict(self, X):\n",
        "    return np.where(self.net_input(X) >= self.threshold, 1, -1)\n",
        "~~~"
      ]
    },
    {
      "cell_type": "markdown",
      "metadata": {
        "id": "HnI1joK1yJnL"
      },
      "source": [
        "### Main\n",
        "Perceptron 클래스 생성을 완료하고 입력값(X)과 실제출력값(y)을 이용하여 퍼셉트론을 훈련한다."
      ]
    },
    {
      "cell_type": "markdown",
      "metadata": {
        "id": "hThWAuoXyJnM"
      },
      "source": [
        "~~~python\n",
        "if __name__ == '__main__':\n",
        "    X = np.array([[0, 0],[0, 1],[1, 0],[1, 1]])\n",
        "    y = np.array([-1, -1, -1, 1])\n",
        "    \n",
        "    ppn = Perceptron(eta=0.1)\n",
        "    ppn.fit(X, y)\n",
        "    print(ppn.errors_)\n",
        "~~~"
      ]
    },
    {
      "cell_type": "markdown",
      "metadata": {
        "id": "annlmJpKyJnM"
      },
      "source": [
        "## 전체 소스"
      ]
    },
    {
      "cell_type": "code",
      "execution_count": 28,
      "metadata": {
        "colab": {
          "base_uri": "https://localhost:8080/"
        },
        "id": "HHHbWK61yJnN",
        "outputId": "e4df9bb8-0fac-4549-abdd-78a0e54015a6"
      },
      "outputs": [
        {
          "output_type": "stream",
          "name": "stdout",
          "text": [
            "[2, 3, 3, 0, 0, 0, 0, 0, 0, 0]\n"
          ]
        }
      ],
      "source": [
        "import numpy as np\n",
        "\n",
        "class Perceptron(object):\n",
        "    def __init__(self, eta=0.01, threshold=0.0, n_iter=10):\n",
        "        self.eta = eta\n",
        "        self.threshold = threshold\n",
        "        self.n_iter = n_iter\n",
        "        \n",
        "    def fit(self, X, y):\n",
        "        self.w_ = np.zeros(1 + X.shape[1])\n",
        "        self.errors_ = []\n",
        "        for _ in range(self.n_iter):\n",
        "            errors = 0\n",
        "            for xi, target in zip(X, y):\n",
        "                update = self.eta * (target - self.predict(xi))\n",
        "                self.w_[1:] += update * xi\n",
        "                self.w_[0] += update\n",
        "                errors += int(update != 0.0)\n",
        "            self.errors_.append(errors)\n",
        "        return self\n",
        "    \n",
        "    def net_input(self, X):\n",
        "        return np.matmul(X, self.w_[1:]) + self.w_[0]\n",
        "    \n",
        "    def predict(self, X):\n",
        "        return np.where(self.net_input(X) >= self.threshold, 1, -1)\n",
        "\n",
        "if __name__ == '__main__':\n",
        "    X = np.array([[0, 0],[0, 1],[1, 0],[1, 1]])\n",
        "    y = np.array([-1, -1, -1, 1])\n",
        "    \n",
        "    ppn = Perceptron(eta=0.1)\n",
        "    ppn.fit(X, y)\n",
        "    print(ppn.errors_)"
      ]
    },
    {
      "cell_type": "code",
      "execution_count": null,
      "metadata": {
        "id": "ORcH-USlyJnO"
      },
      "outputs": [],
      "source": [
        ""
      ]
    }
  ],
  "metadata": {
    "kernelspec": {
      "display_name": "Python 3",
      "language": "python",
      "name": "python3"
    },
    "language_info": {
      "codemirror_mode": {
        "name": "ipython",
        "version": 3
      },
      "file_extension": ".py",
      "mimetype": "text/x-python",
      "name": "python",
      "nbconvert_exporter": "python",
      "pygments_lexer": "ipython3",
      "version": "3.6.5"
    },
    "colab": {
      "name": "simple_perceptron_AND.ipynb",
      "provenance": [],
      "collapsed_sections": [],
      "include_colab_link": true
    }
  },
  "nbformat": 4,
  "nbformat_minor": 0
}